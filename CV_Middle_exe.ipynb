{
  "cells": [
    {
      "cell_type": "markdown",
      "metadata": {
        "id": "view-in-github",
        "colab_type": "text"
      },
      "source": [
        "<a href=\"https://colab.research.google.com/github/IdoRoss/Deep-Learning-In-Computer-Vision-Middle-Exercise/blob/main/CV_Middle_exe.ipynb\" target=\"_parent\"><img src=\"https://colab.research.google.com/assets/colab-badge.svg\" alt=\"Open In Colab\"/></a>"
      ]
    },
    {
      "cell_type": "markdown",
      "metadata": {
        "id": "j_iq4W7xmURp"
      },
      "source": [
        "<h1>Computer Vision Course Middle Assignment</h1>"
      ]
    },
    {
      "cell_type": "markdown",
      "metadata": {
        "id": "-lGNxM9LTLsm"
      },
      "source": [
        "# Importing libraries ,mounting drive And Function Definitions"
      ]
    },
    {
      "cell_type": "code",
      "execution_count": null,
      "metadata": {
        "id": "hMyB9D_bSc1_"
      },
      "outputs": [],
      "source": [
        "import tensorflow as tf\n",
        "from tensorflow import keras\n",
        "from keras.preprocessing.image import ImageDataGenerator\n",
        "from keras.models import Sequential\n",
        "from keras.layers import Conv2D, MaxPool2D, Flatten, Dense\n",
        "from keras.callbacks import EarlyStopping\n",
        "from tensorflow.keras.applications import VGG16\n",
        "import numpy as np\n",
        "from matplotlib import pyplot as plt\n",
        "from sklearn.metrics import confusion_matrix\n",
        "import itertools\n",
        "from timeit import default_timer as timer\n",
        "import os\n",
        "import random\n",
        "import glob\n",
        "import shutil"
      ]
    },
    {
      "cell_type": "code",
      "execution_count": null,
      "metadata": {
        "id": "4uw5pxN9SM42",
        "colab": {
          "base_uri": "https://localhost:8080/"
        },
        "outputId": "61199840-4f77-4d97-fcd6-e680bf0d0eb0"
      },
      "outputs": [
        {
          "output_type": "stream",
          "name": "stdout",
          "text": [
            "Mounted at /content/drive\n"
          ]
        }
      ],
      "source": [
        "from google.colab import drive\n",
        "drive.mount('/content/drive')\n",
        "os.chdir(\"/content/drive/MyDrive/Colab Notebooks/Computer Vision Course/Middle exe\")"
      ]
    },
    {
      "cell_type": "markdown",
      "metadata": {
        "id": "ZvizMAjhD_1R"
      },
      "source": [
        "**Note:** for this exercise we took 1000 random pictures out of each class from the training set (locally) and placed them into a validation set"
      ]
    },
    {
      "cell_type": "markdown",
      "metadata": {
        "id": "mVMmXd_ez3Vu"
      },
      "source": [
        "### Confusion Matrix Function Definition"
      ]
    },
    {
      "cell_type": "code",
      "execution_count": null,
      "metadata": {
        "id": "PJwVELp2z1w4"
      },
      "outputs": [],
      "source": [
        "def plot_confusion_matrix(cm, classes,\n",
        "                          normalize=False,\n",
        "                          title='Confusion matrix',\n",
        "                          cmap=plt.cm.Blues):\n",
        "    \"\"\"\n",
        "    This function prints and plots the confusion matrix.\n",
        "    Normalization can be applied by setting `normalize=True`.\n",
        "    \"\"\"\n",
        "    plt.imshow(cm, interpolation='nearest', cmap=cmap)\n",
        "    plt.title(title)\n",
        "    plt.colorbar()\n",
        "    tick_marks = np.arange(len(classes))\n",
        "    plt.xticks(tick_marks, classes, rotation=45)\n",
        "    plt.yticks(tick_marks, classes)\n",
        "\n",
        "    if normalize:\n",
        "        cm = cm.astype('float') / cm.sum(axis=1)[:, np.newaxis]\n",
        "        print(\"Normalized confusion matrix\")\n",
        "    else:\n",
        "        print('Confusion matrix, without normalization')\n",
        "\n",
        "    print(cm)\n",
        "\n",
        "    thresh = cm.max() / 2.\n",
        "    for i, j in itertools.product(range(cm.shape[0]), range(cm.shape[1])):\n",
        "        plt.text(j, i, cm[i, j],\n",
        "                 horizontalalignment=\"center\",\n",
        "                 color=\"white\" if cm[i, j] > thresh else \"black\")\n",
        "\n",
        "    plt.tight_layout()\n",
        "    plt.ylabel('True label')\n",
        "    plt.xlabel('Predicted label')\n",
        "    plt.show()"
      ]
    },
    {
      "cell_type": "markdown",
      "metadata": {
        "id": "uRImJHiQjx5R"
      },
      "source": [
        "### Accuracy Calculation Function Definition"
      ]
    },
    {
      "cell_type": "code",
      "execution_count": null,
      "metadata": {
        "id": "KijaDO-Qjut9"
      },
      "outputs": [],
      "source": [
        "def calc_accuracy(y_true, y_pred):\n",
        "  correct = 0\n",
        "  for i in range(len(y_true)):\n",
        "    if y_true[i] == y_pred[i]:\n",
        "      correct += 1\n",
        "  return (correct/len(y_true))"
      ]
    },
    {
      "cell_type": "markdown",
      "metadata": {
        "id": "r3amAgWMmqPW"
      },
      "source": [
        "# Model Number 1"
      ]
    },
    {
      "cell_type": "markdown",
      "metadata": {
        "id": "G6qPV18oUpLc"
      },
      "source": [
        "## Data Preprocessing"
      ]
    },
    {
      "cell_type": "markdown",
      "metadata": {
        "id": "CYltjFUCn699"
      },
      "source": [
        "We choose 10000 epochs because later on we will use \"Early Stopping\"."
      ]
    },
    {
      "cell_type": "code",
      "execution_count": null,
      "metadata": {
        "id": "NYVHlztDTS-D"
      },
      "outputs": [],
      "source": [
        "train_path = \"dataset/dataset/training_set\"\n",
        "valid_path = \"dataset/dataset/valid_set\"\n",
        "test_path = \"dataset/dataset/test_set\"\n",
        "epochs = 10000\n",
        "batch_size = 12\n",
        "target_size = (32,32)\n",
        "input_shape = (32,32,3)\n",
        "classes = [\"airplane\",\"bird\",\"frog\"]"
      ]
    },
    {
      "cell_type": "markdown",
      "metadata": {
        "id": "cNN_K_ZlmGEN"
      },
      "source": [
        "We choose to normalize  the pixels between 0 and 1 as a preprocessing method.\n",
        "For data augmentations we choose horizontal flip, rotating the image between 0 and 10 degrees and zooming the image between 0 and 0.15 percent."
      ]
    },
    {
      "cell_type": "code",
      "execution_count": null,
      "metadata": {
        "id": "5Kp4DCo9WYF3",
        "colab": {
          "base_uri": "https://localhost:8080/"
        },
        "outputId": "47e4fac9-c03e-4a1f-c58f-e126341eefb1"
      },
      "outputs": [
        {
          "output_type": "stream",
          "name": "stdout",
          "text": [
            "Found 12000 images belonging to 3 classes.\n",
            "Found 3000 images belonging to 3 classes.\n",
            "Found 3000 images belonging to 3 classes.\n"
          ]
        }
      ],
      "source": [
        "train_batchs = ImageDataGenerator(rescale = 1./255,horizontal_flip=True,rotation_range=10,zoom_range=0.15).flow_from_directory(directory=train_path,target_size=target_size, classes=classes,batch_size=batch_size, shuffle=True)\n",
        "valid_batchs = ImageDataGenerator(rescale = 1./255).flow_from_directory(directory=valid_path,target_size=target_size, classes=classes,batch_size=batch_size, shuffle=False)\n",
        "test_batchs = ImageDataGenerator(rescale = 1./255).flow_from_directory(directory=test_path,target_size=target_size, classes=classes,batch_size=batch_size, shuffle=False)\n"
      ]
    },
    {
      "cell_type": "markdown",
      "metadata": {
        "id": "8VdQWotSZc70"
      },
      "source": [
        "## Building The First CNN Model"
      ]
    },
    {
      "cell_type": "markdown",
      "metadata": {
        "id": "pNrZkySUsOse"
      },
      "source": [
        "For our first model we choose the following architecture: \n",
        "We choose the \"relu\" activation func to avoid the \"Vanishing gradient\" issue that comes with sigmoid, we choose (3,3) filter sizes as they lead to less parameters and more layeres and therefore more nonlinearity, than a bigger filter size for the same receptive field."
      ]
    },
    {
      "cell_type": "code",
      "execution_count": null,
      "metadata": {
        "id": "1W9A_t6mZfOO",
        "colab": {
          "base_uri": "https://localhost:8080/"
        },
        "outputId": "21a9d456-62b1-4179-a343-5bb6b41b3909"
      },
      "outputs": [
        {
          "output_type": "stream",
          "name": "stdout",
          "text": [
            "Model: \"sequential\"\n",
            "_________________________________________________________________\n",
            " Layer (type)                Output Shape              Param #   \n",
            "=================================================================\n",
            " conv2d (Conv2D)             (None, 32, 32, 32)        896       \n",
            "                                                                 \n",
            " max_pooling2d (MaxPooling2D  (None, 16, 16, 32)       0         \n",
            " )                                                               \n",
            "                                                                 \n",
            " conv2d_1 (Conv2D)           (None, 16, 16, 64)        18496     \n",
            "                                                                 \n",
            " max_pooling2d_1 (MaxPooling  (None, 8, 8, 64)         0         \n",
            " 2D)                                                             \n",
            "                                                                 \n",
            " conv2d_2 (Conv2D)           (None, 8, 8, 128)         73856     \n",
            "                                                                 \n",
            " max_pooling2d_2 (MaxPooling  (None, 4, 4, 128)        0         \n",
            " 2D)                                                             \n",
            "                                                                 \n",
            " flatten (Flatten)           (None, 2048)              0         \n",
            "                                                                 \n",
            " dense (Dense)               (None, 128)               262272    \n",
            "                                                                 \n",
            " dense_1 (Dense)             (None, 64)                8256      \n",
            "                                                                 \n",
            " dense_2 (Dense)             (None, 3)                 195       \n",
            "                                                                 \n",
            "=================================================================\n",
            "Total params: 363,971\n",
            "Trainable params: 363,971\n",
            "Non-trainable params: 0\n",
            "_________________________________________________________________\n"
          ]
        }
      ],
      "source": [
        "model = Sequential([\n",
        "                    Conv2D(filters=32,kernel_size=(3,3),padding=\"same\",activation=\"relu\", input_shape=input_shape),\n",
        "                    MaxPool2D(pool_size=(2,2),strides=2),\n",
        "                    Conv2D(filters=64,kernel_size=(3,3),padding=\"same\",activation=\"relu\"),\n",
        "                    MaxPool2D(pool_size=(2,2),strides=2),\n",
        "                    Conv2D(filters=128,kernel_size=(3,3),padding=\"same\",activation=\"relu\"),\n",
        "                    MaxPool2D(pool_size=(2,2),strides=2),\n",
        "                    Flatten(),\n",
        "                    Dense(units=128,activation=\"relu\"),\n",
        "                    Dense(units=64,activation=\"relu\"),\n",
        "                    Dense(units=len(classes),activation=\"softmax\")\n",
        "])\n",
        "model.summary()"
      ]
    },
    {
      "cell_type": "markdown",
      "metadata": {
        "id": "bM3TmgD7lHnE"
      },
      "source": [
        "## Training The First CNN Model"
      ]
    },
    {
      "cell_type": "markdown",
      "metadata": {
        "id": "ayy09XK-xC1q"
      },
      "source": [
        "To train the first model we enabled the use of GPU as the hardware accelerator, we choose the adam optimizer, the loss function we used is categorical crossentropy for a multiclass CNN. We also used the \"Early Stopping\" callback to try and avoid overfitting, we choose to monitor the loss of the validation set and have the model stop training if the loss of the validation set wont improve after 3 epochs, the model will restore the best weights."
      ]
    },
    {
      "cell_type": "code",
      "execution_count": null,
      "metadata": {
        "colab": {
          "base_uri": "https://localhost:8080/"
        },
        "id": "PdOdXeAMcxZ8",
        "outputId": "f83b62d6-80ab-4a10-8640-4103c2f7b910"
      },
      "outputs": [
        {
          "output_type": "stream",
          "name": "stdout",
          "text": [
            "Epoch 1/10000\n",
            "1000/1000 [==============================] - 2033s 2s/step - loss: 0.7464 - accuracy: 0.6699 - val_loss: 0.5739 - val_accuracy: 0.7647\n",
            "Epoch 2/10000\n",
            "1000/1000 [==============================] - 47s 47ms/step - loss: 0.5507 - accuracy: 0.7794 - val_loss: 0.5282 - val_accuracy: 0.7863\n",
            "Epoch 3/10000\n",
            "1000/1000 [==============================] - 48s 48ms/step - loss: 0.4930 - accuracy: 0.7987 - val_loss: 0.4581 - val_accuracy: 0.8133\n",
            "Epoch 4/10000\n",
            "1000/1000 [==============================] - 48s 48ms/step - loss: 0.4425 - accuracy: 0.8235 - val_loss: 0.3818 - val_accuracy: 0.8540\n",
            "Epoch 5/10000\n",
            "1000/1000 [==============================] - 48s 48ms/step - loss: 0.4105 - accuracy: 0.8357 - val_loss: 0.3999 - val_accuracy: 0.8550\n",
            "Epoch 6/10000\n",
            "1000/1000 [==============================] - 48s 48ms/step - loss: 0.3827 - accuracy: 0.8458 - val_loss: 0.3679 - val_accuracy: 0.8587\n",
            "Epoch 7/10000\n",
            "1000/1000 [==============================] - 47s 47ms/step - loss: 0.3640 - accuracy: 0.8538 - val_loss: 0.4156 - val_accuracy: 0.8403\n",
            "Epoch 8/10000\n",
            "1000/1000 [==============================] - 48s 48ms/step - loss: 0.3582 - accuracy: 0.8612 - val_loss: 0.3598 - val_accuracy: 0.8580\n",
            "Epoch 9/10000\n",
            "1000/1000 [==============================] - 46s 46ms/step - loss: 0.3402 - accuracy: 0.8658 - val_loss: 0.3540 - val_accuracy: 0.8630\n",
            "Epoch 10/10000\n",
            "1000/1000 [==============================] - 46s 46ms/step - loss: 0.3180 - accuracy: 0.8722 - val_loss: 0.3801 - val_accuracy: 0.8577\n",
            "Epoch 11/10000\n",
            "1000/1000 [==============================] - 46s 46ms/step - loss: 0.3042 - accuracy: 0.8812 - val_loss: 0.3573 - val_accuracy: 0.8617\n",
            "Epoch 12/10000\n",
            "1000/1000 [==============================] - 47s 47ms/step - loss: 0.2993 - accuracy: 0.8824 - val_loss: 0.3885 - val_accuracy: 0.8503\n",
            "Finished training after 43 minutes\n"
          ]
        }
      ],
      "source": [
        "model.compile(optimizer=\"adam\", loss=\"categorical_crossentropy\",metrics=[\"accuracy\"])\n",
        "time = timer()\n",
        "history = model.fit(x= train_batchs, epochs=epochs, validation_data=valid_batchs,callbacks=[EarlyStopping(monitor=\"val_loss\", patience = 3, restore_best_weights=True)] , verbose=1)\n",
        "total_time = round((timer() - time)/60)\n",
        "print(f\"Finished training after {total_time} minutes\")"
      ]
    },
    {
      "cell_type": "markdown",
      "metadata": {
        "id": "jJx76y5ulN9y"
      },
      "source": [
        "## Evaluating The First CNN Model"
      ]
    },
    {
      "cell_type": "markdown",
      "metadata": {
        "id": "F65REsA_jE9_"
      },
      "source": [
        "### The Train Process"
      ]
    },
    {
      "cell_type": "markdown",
      "metadata": {
        "id": "q21ETM8q2Asu"
      },
      "source": [
        "Visualizing the loss. We can see the the model tended to overfitting after epoch number 9. So to prevent that, early stopping stopped the model from over fitting."
      ]
    },
    {
      "cell_type": "code",
      "execution_count": null,
      "metadata": {
        "id": "zrM-Lrmzh2oO",
        "colab": {
          "base_uri": "https://localhost:8080/",
          "height": 295
        },
        "outputId": "12d1b876-02f6-47e1-cc24-c884ff318139"
      },
      "outputs": [
        {
          "output_type": "display_data",
          "data": {
            "image/png": "[encoded data removed]",
            "text/plain": [
              "<Figure size 432x288 with 1 Axes>"
            ]
          },
          "metadata": {
            "needs_background": "light"
          }
        }
      ],
      "source": [
        "plt.plot(history.history['loss'])\n",
        "plt.plot(history.history['val_loss'])\n",
        "plt.title('model loss')\n",
        "plt.ylabel('loss')\n",
        "plt.xlabel('epoch')\n",
        "plt.legend(['train', 'val'], loc='upper left')\n",
        "plt.show()"
      ]
    },
    {
      "cell_type": "markdown",
      "metadata": {
        "id": "3B7Z_bs22vXs"
      },
      "source": [
        "Visualizing the Accuracy."
      ]
    },
    {
      "cell_type": "code",
      "execution_count": null,
      "metadata": {
        "id": "uJpC_1Z2h4UC",
        "colab": {
          "base_uri": "https://localhost:8080/",
          "height": 295
        },
        "outputId": "451265ef-f343-4deb-f6dc-f66dd6d5d747"
      },
      "outputs": [
        {
          "output_type": "display_data",
          "data": {
            "image/png": "[encoded data removed]",
            "text/plain": [
              "<Figure size 432x288 with 1 Axes>"
            ]
          },
          "metadata": {
            "needs_background": "light"
          }
        }
      ],
      "source": [
        "plt.plot(history.history['accuracy'])\n",
        "plt.plot(history.history['val_accuracy'])\n",
        "plt.title('model accuracy')\n",
        "plt.ylabel('accuracy')\n",
        "plt.xlabel('epoch')\n",
        "plt.legend(['train', 'val'], loc='upper left')\n",
        "plt.show()"
      ]
    },
    {
      "cell_type": "code",
      "execution_count": null,
      "metadata": {
        "id": "Az9U8ia_h78o",
        "colab": {
          "base_uri": "https://localhost:8080/"
        },
        "outputId": "bee1fd4c-5c9f-4a33-80ef-2019aa3a8ceb"
      },
      "outputs": [
        {
          "output_type": "stream",
          "name": "stdout",
          "text": [
            "The model accuracy on train data is: 0.87\n",
            "The model accuracy on validation data is: 0.86\n"
          ]
        }
      ],
      "source": [
        "train_accuracy = round(history.history['accuracy'][-4], 2)\n",
        "valid_accuracy = round(history.history['val_accuracy'][-4], 2)\n",
        "print(f'The model accuracy on train data is: {train_accuracy}')\n",
        "print(f'The model accuracy on validation data is: {valid_accuracy}')"
      ]
    },
    {
      "cell_type": "markdown",
      "metadata": {
        "id": "dce3_igN2-Iq"
      },
      "source": [
        "### Evaluating On The Test Set"
      ]
    },
    {
      "cell_type": "markdown",
      "metadata": {
        "id": "GqrRjgeo3Www"
      },
      "source": [
        "Plotting the confusion matrix on the separate test data to visualize the model performance on each of the classes."
      ]
    },
    {
      "cell_type": "code",
      "execution_count": null,
      "metadata": {
        "id": "YpuQv5Y13FXc",
        "colab": {
          "base_uri": "https://localhost:8080/",
          "height": 381
        },
        "outputId": "d1f226e6-6411-49ad-ab03-0b1067fc310a"
      },
      "outputs": [
        {
          "output_type": "stream",
          "name": "stdout",
          "text": [
            "Confusion matrix, without normalization\n",
            "[[953  23  24]\n",
            " [117 715 168]\n",
            " [ 22  32 946]]\n"
          ]
        },
        {
          "output_type": "display_data",
          "data": {
            "image/png": "[encoded data removed]",
            "text/plain": [
              "<Figure size 432x288 with 2 Axes>"
            ]
          },
          "metadata": {
            "needs_background": "light"
          }
        }
      ],
      "source": [
        "predictions = model.predict(x=test_batchs, verbose=0)\n",
        "cm = confusion_matrix(y_true=test_batchs.classes, y_pred=np.argmax(predictions, axis=-1))\n",
        "acc = calc_accuracy(test_batchs.classes,np.argmax(predictions, axis=-1))\n",
        "plot_confusion_matrix(cm=cm, classes=classes, title=f\"First Model CM, with {acc}% accuracy on test set\",normalize=False)"
      ]
    },
    {
      "cell_type": "markdown",
      "metadata": {
        "id": "3wVsDViLm3oG"
      },
      "source": [
        "# Model Number 2"
      ]
    },
    {
      "cell_type": "markdown",
      "metadata": {
        "id": "7uZkpYmYm5Kf"
      },
      "source": [
        "## Data Preprocessing"
      ]
    },
    {
      "cell_type": "markdown",
      "metadata": {
        "id": "_Zvka6YApfWh"
      },
      "source": [
        "for the second model we choose the \"Transfer Learning\" method. We choose the use the vgg16 model trained on \"Imagenet\" dataset as it learned to differentiate between meny classes including simular classes to our classes.\n",
        "Because the vgg16 model was build to classify images that are 224x224x3 we needed to reshape our images to fit that size (done by the \"ImageDataGenerator\"), we also needed to use the vgg16 preprocess method as this is the preprocess the model was trained on."
      ]
    },
    {
      "cell_type": "code",
      "execution_count": null,
      "metadata": {
        "id": "Eq-9Q0cSnR7e"
      },
      "outputs": [],
      "source": [
        "train_path = \"dataset/dataset/training_set\"\n",
        "valid_path = \"dataset/dataset/valid_set\"\n",
        "test_path = \"dataset/dataset/test_set\"\n",
        "epochs = 10000\n",
        "batch_size = 12\n",
        "target_size = (224, 224)\n",
        "input_shape = (224, 224, 3)\n",
        "classes = [\"airplane\",\"bird\",\"frog\"]"
      ]
    },
    {
      "cell_type": "code",
      "execution_count": null,
      "metadata": {
        "id": "a8q4YzWknY2M",
        "colab": {
          "base_uri": "https://localhost:8080/"
        },
        "outputId": "a1fcd744-8c00-4671-ee89-c860b09d0253"
      },
      "outputs": [
        {
          "output_type": "stream",
          "name": "stdout",
          "text": [
            "Found 12000 images belonging to 3 classes.\n",
            "Found 3000 images belonging to 3 classes.\n",
            "Found 3000 images belonging to 3 classes.\n"
          ]
        }
      ],
      "source": [
        "train_batchs = ImageDataGenerator(preprocessing_function= keras.applications.vgg16.preprocess_input,horizontal_flip=True,rotation_range=10,zoom_range=0.15).flow_from_directory(directory=train_path,target_size=target_size, classes=classes,batch_size=batch_size, shuffle=True)\n",
        "valid_batchs = test_batchs = ImageDataGenerator(preprocessing_function= keras.applications.vgg16.preprocess_input).flow_from_directory(directory=valid_path,target_size=target_size, classes=classes,batch_size=batch_size, shuffle=False)\n",
        "test_batchs = ImageDataGenerator(preprocessing_function= keras.applications.vgg16.preprocess_input).flow_from_directory(directory=test_path,target_size=target_size, classes=classes,batch_size=batch_size, shuffle=False)"
      ]
    },
    {
      "cell_type": "code",
      "source": [
        ""
      ],
      "metadata": {
        "id": "xVdd9N7jo5DI"
      },
      "execution_count": null,
      "outputs": []
    },
    {
      "cell_type": "markdown",
      "metadata": {
        "id": "gqKSnyfJlgZR"
      },
      "source": [
        "## Building The Second CNN Model"
      ]
    },
    {
      "cell_type": "markdown",
      "metadata": {
        "id": "HfS7gITy33VC"
      },
      "source": [
        "For the second model we used vgg's layers but choose to use vgg's weights up to the  last 3 Convolution layers, add our own Fully Connected layers and train only those."
      ]
    },
    {
      "cell_type": "code",
      "execution_count": null,
      "metadata": {
        "id": "KA6p38ZsUzdw",
        "colab": {
          "base_uri": "https://localhost:8080/"
        },
        "outputId": "b6de75d9-076b-4918-c009-e74aaf7ced91"
      },
      "outputs": [
        {
          "output_type": "stream",
          "name": "stdout",
          "text": [
            "Downloading data from https://storage.googleapis.com/tensorflow/keras-applications/vgg16/vgg16_weights_tf_dim_ordering_tf_kernels_notop.h5\n",
            "58892288/58889256 [==============================] - 1s 0us/step\n",
            "58900480/58889256 [==============================] - 1s 0us/step\n",
            "Model: \"sequential\"\n",
            "_________________________________________________________________\n",
            " Layer (type)                Output Shape              Param #   \n",
            "=================================================================\n",
            " block1_conv1 (Conv2D)       (None, 224, 224, 64)      1792      \n",
            "                                                                 \n",
            " block1_conv2 (Conv2D)       (None, 224, 224, 64)      36928     \n",
            "                                                                 \n",
            " block1_pool (MaxPooling2D)  (None, 112, 112, 64)      0         \n",
            "                                                                 \n",
            " block2_conv1 (Conv2D)       (None, 112, 112, 128)     73856     \n",
            "                                                                 \n",
            " block2_conv2 (Conv2D)       (None, 112, 112, 128)     147584    \n",
            "                                                                 \n",
            " block2_pool (MaxPooling2D)  (None, 56, 56, 128)       0         \n",
            "                                                                 \n",
            " block3_conv1 (Conv2D)       (None, 56, 56, 256)       295168    \n",
            "                                                                 \n",
            " block3_conv2 (Conv2D)       (None, 56, 56, 256)       590080    \n",
            "                                                                 \n",
            " block3_conv3 (Conv2D)       (None, 56, 56, 256)       590080    \n",
            "                                                                 \n",
            " block3_pool (MaxPooling2D)  (None, 28, 28, 256)       0         \n",
            "                                                                 \n",
            " block4_conv1 (Conv2D)       (None, 28, 28, 512)       1180160   \n",
            "                                                                 \n",
            " block4_conv2 (Conv2D)       (None, 28, 28, 512)       2359808   \n",
            "                                                                 \n",
            " block4_conv3 (Conv2D)       (None, 28, 28, 512)       2359808   \n",
            "                                                                 \n",
            " block4_pool (MaxPooling2D)  (None, 14, 14, 512)       0         \n",
            "                                                                 \n",
            " conv2d (Conv2D)             (None, 14, 14, 512)       2359808   \n",
            "                                                                 \n",
            " conv2d_1 (Conv2D)           (None, 14, 14, 512)       2359808   \n",
            "                                                                 \n",
            " conv2d_2 (Conv2D)           (None, 14, 14, 512)       2359808   \n",
            "                                                                 \n",
            " max_pooling2d (MaxPooling2D  (None, 7, 7, 512)        0         \n",
            " )                                                               \n",
            "                                                                 \n",
            " flatten (Flatten)           (None, 25088)             0         \n",
            "                                                                 \n",
            " dense (Dense)               (None, 256)               6422784   \n",
            "                                                                 \n",
            " dense_1 (Dense)             (None, 128)               32896     \n",
            "                                                                 \n",
            " dense_2 (Dense)             (None, 3)                 387       \n",
            "                                                                 \n",
            "=================================================================\n",
            "Total params: 21,170,755\n",
            "Trainable params: 13,535,491\n",
            "Non-trainable params: 7,635,264\n",
            "_________________________________________________________________\n"
          ]
        }
      ],
      "source": [
        "vgg16 = VGG16(include_top=False, weights=\"imagenet\", input_shape=input_shape)\n",
        "model2 = Sequential()\n",
        "\n",
        "for layer in vgg16.layers[:-4]:\n",
        "  model2.add(layer)\n",
        "\n",
        "for layer in model2.layers:\n",
        "  layer.trainable = False\n",
        "\n",
        "model2.add(Conv2D(filters=512,kernel_size=(3,3),padding=\"same\",activation=\"relu\"))\n",
        "model2.add(Conv2D(filters=512,kernel_size=(3,3),padding=\"same\",activation=\"relu\"))\n",
        "model2.add(Conv2D(filters=512,kernel_size=(3,3),padding=\"same\",activation=\"relu\"))\n",
        "model2.add(MaxPool2D(pool_size=(2,2),strides=2))\n",
        "model2.add(Flatten())\n",
        "model2.add(Dense(units=256,activation=\"relu\"))\n",
        "model2.add(Dense(units=128,activation=\"relu\"))\n",
        "model2.add(Dense(units=len(classes),activation=\"softmax\"))\n",
        "                   \n",
        "model2.summary()"
      ]
    },
    {
      "cell_type": "markdown",
      "metadata": {
        "id": "X1TsKtedlpDG"
      },
      "source": [
        "## Training The Second CNN Model"
      ]
    },
    {
      "cell_type": "markdown",
      "metadata": {
        "id": "kXk0pQ0V3y9i"
      },
      "source": [
        "Training the second model similarly to the first one."
      ]
    },
    {
      "cell_type": "code",
      "execution_count": null,
      "metadata": {
        "id": "KCaxmcFyby65",
        "colab": {
          "base_uri": "https://localhost:8080/"
        },
        "outputId": "4f95d4c5-0500-4482-dc34-650e3e14606e"
      },
      "outputs": [
        {
          "output_type": "stream",
          "name": "stdout",
          "text": [
            "Epoch 1/10000\n",
            "1000/1000 [==============================] - 3963s 4s/step - loss: 4.0572 - accuracy: 0.6821 - val_loss: 0.7081 - val_accuracy: 0.7333\n",
            "Epoch 2/10000\n",
            "1000/1000 [==============================] - 243s 243ms/step - loss: 0.5622 - accuracy: 0.7778 - val_loss: 0.4843 - val_accuracy: 0.8127\n",
            "Epoch 3/10000\n",
            "1000/1000 [==============================] - 242s 242ms/step - loss: 0.5099 - accuracy: 0.8009 - val_loss: 0.4933 - val_accuracy: 0.8270\n",
            "Epoch 4/10000\n",
            "1000/1000 [==============================] - 242s 242ms/step - loss: 0.4900 - accuracy: 0.8111 - val_loss: 0.6955 - val_accuracy: 0.7263\n",
            "Epoch 5/10000\n",
            "1000/1000 [==============================] - 242s 242ms/step - loss: 0.4906 - accuracy: 0.8118 - val_loss: 0.6188 - val_accuracy: 0.8030\n",
            "Finished training after 82 minutes\n"
          ]
        }
      ],
      "source": [
        "model2.compile(optimizer=\"adam\", loss=\"categorical_crossentropy\",metrics=[\"accuracy\"])\n",
        "time = timer()\n",
        "history2 = model2.fit(x= train_batchs, epochs=epochs, validation_data=valid_batchs,callbacks=[EarlyStopping(monitor=\"val_loss\", patience = 3, restore_best_weights=True)] , verbose=1)\n",
        "total_time = round((timer() - time)/60)\n",
        "print(f\"Finished training after {total_time} minutes\")"
      ]
    },
    {
      "cell_type": "markdown",
      "metadata": {
        "id": "RuhO1VbilxiT"
      },
      "source": [
        "## Evaluating The Second CNN Model"
      ]
    },
    {
      "cell_type": "markdown",
      "metadata": {
        "id": "_T3zMy-Fl0cu"
      },
      "source": [
        "### The Train Process"
      ]
    },
    {
      "cell_type": "markdown",
      "metadata": {
        "id": "8on4za7S4VWV"
      },
      "source": [
        "Visualizing the loss. We can see the the model tended to overfitting after epoch number <h1>number</h1>. so to prevent that, early stopping stopped the model from over fitting."
      ]
    },
    {
      "cell_type": "code",
      "execution_count": null,
      "metadata": {
        "id": "K96Dd5yZzK_o",
        "colab": {
          "base_uri": "https://localhost:8080/",
          "height": 295
        },
        "outputId": "67afbd82-cef4-43fc-8b11-d5b719df1bb0"
      },
      "outputs": [
        {
          "output_type": "display_data",
          "data": {
            "image/png": "[encoded data removed]",
            "text/plain": [
              "<Figure size 432x288 with 1 Axes>"
            ]
          },
          "metadata": {
            "needs_background": "light"
          }
        }
      ],
      "source": [
        "plt.plot(history2.history['loss'])\n",
        "plt.plot(history2.history['val_loss'])\n",
        "plt.title('model loss')\n",
        "plt.ylabel('loss')\n",
        "plt.xlabel('epoch')\n",
        "plt.legend(['train', 'val'], loc='upper left')\n",
        "plt.show()"
      ]
    },
    {
      "cell_type": "markdown",
      "metadata": {
        "id": "7MkX_Svd4bFU"
      },
      "source": [
        "Visualizing the Accuracy."
      ]
    },
    {
      "cell_type": "code",
      "execution_count": null,
      "metadata": {
        "id": "Wkqq9Uy3zNAU",
        "colab": {
          "base_uri": "https://localhost:8080/",
          "height": 295
        },
        "outputId": "83ae3622-4ba0-43f5-c6b4-8d8096b30ca7"
      },
      "outputs": [
        {
          "output_type": "display_data",
          "data": {
            "image/png": "[encoded data removed]",
            "text/plain": [
              "<Figure size 432x288 with 1 Axes>"
            ]
          },
          "metadata": {
            "needs_background": "light"
          }
        }
      ],
      "source": [
        "plt.plot(history2.history['accuracy'])\n",
        "plt.plot(history2.history['val_accuracy'])\n",
        "plt.title('model accuracy')\n",
        "plt.ylabel('accuracy')\n",
        "plt.xlabel('epoch')\n",
        "plt.legend(['train', 'val'], loc='upper left')\n",
        "plt.show()"
      ]
    },
    {
      "cell_type": "code",
      "execution_count": null,
      "metadata": {
        "id": "4QqAHgTvzOds",
        "colab": {
          "base_uri": "https://localhost:8080/"
        },
        "outputId": "fa172d3b-b51d-4fef-d974-ba3964464146"
      },
      "outputs": [
        {
          "output_type": "stream",
          "name": "stdout",
          "text": [
            "The model accuracy on train data is: 0.78\n",
            "The model accuracy on validation data is: 0.81\n"
          ]
        }
      ],
      "source": [
        "train_accuracy = round(history2.history['accuracy'][-4], 2)\n",
        "print(f'The model accuracy on train data is: {train_accuracy}')\n",
        "valid_accuracy = round(history2.history['val_accuracy'][-4], 2)\n",
        "print(f'The model accuracy on validation data is: {valid_accuracy}')"
      ]
    },
    {
      "cell_type": "markdown",
      "metadata": {
        "id": "ig2QGXB80W-J"
      },
      "source": [
        "### Evaluating On The Test Set"
      ]
    },
    {
      "cell_type": "markdown",
      "metadata": {
        "id": "mfJQhgj24gza"
      },
      "source": [
        "Plotting the confusion matrix on the separate test data to visualize the model performance on each of the classes."
      ]
    },
    {
      "cell_type": "code",
      "execution_count": null,
      "metadata": {
        "id": "j_IJwwBd0bnT",
        "colab": {
          "base_uri": "https://localhost:8080/",
          "height": 380
        },
        "outputId": "c4c43215-4fac-47f5-ea9c-be65e1ca0dbb"
      },
      "outputs": [
        {
          "output_type": "stream",
          "name": "stdout",
          "text": [
            "Confusion matrix, without normalization\n",
            "[[934  46  20]\n",
            " [180 665 155]\n",
            " [ 22 106 872]]\n"
          ]
        },
        {
          "output_type": "display_data",
          "data": {
            "image/png": "[encoded data removed]",
            "text/plain": [
              "<Figure size 432x288 with 2 Axes>"
            ]
          },
          "metadata": {
            "needs_background": "light"
          }
        }
      ],
      "source": [
        "predictions2 = model2.predict(x=test_batchs, verbose=0)\n",
        "cm = confusion_matrix(y_true=test_batchs.classes, y_pred=np.argmax(predictions2, axis=-1))\n",
        "acc = calc_accuracy(test_batchs.classes,np.argmax(predictions2, axis=-1))\n",
        "plot_confusion_matrix(cm=cm, classes=classes, title=f\"Second Model CM, with {acc}% accuracy on test set\",normalize=False)"
      ]
    },
    {
      "cell_type": "markdown",
      "metadata": {
        "id": "wgoG4Rhyl3GN"
      },
      "source": [
        "# Conclusions"
      ]
    },
    {
      "cell_type": "markdown",
      "metadata": {
        "id": "r37yP9PD9dZn"
      },
      "source": [
        "The First model has preformed better then the second one on the test set.\n",
        "The First model also used less parameters 363,971 compered to the second model's 21,170,755 parameters.\n",
        "Therefore the \"winning\" model is the first one."
      ]
    }
  ],
  "metadata": {
    "accelerator": "GPU",
    "colab": {
      "collapsed_sections": [
        "mVMmXd_ez3Vu",
        "uRImJHiQjx5R"
      ],
      "name": "CV_Middle_exe.ipynb",
      "provenance": [],
      "toc_visible": true,
      "include_colab_link": true
    },
    "kernelspec": {
      "display_name": "Python 3",
      "name": "python3"
    },
    "language_info": {
      "name": "python"
    }
  },
  "nbformat": 4,
  "nbformat_minor": 0
}